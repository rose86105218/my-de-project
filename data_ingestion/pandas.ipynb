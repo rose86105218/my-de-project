{
 "cells": [
  {
   "cell_type": "markdown",
   "id": "f985687f",
   "metadata": {},
   "source": [
    "# DataFrame 操作練習"
   ]
  },
  {
   "cell_type": "markdown",
   "id": "b3bbad67",
   "metadata": {},
   "source": [
    "### 載入範例"
   ]
  },
  {
   "cell_type": "code",
   "execution_count": null,
   "id": "30ea5de7",
   "metadata": {},
   "outputs": [],
   "source": [
    "import pandas as pd\n",
    "import numpy as np\n",
    "\n",
    "data = {\n",
    "    \"student_id\": [\"S001\", \"S002\", \"S003\", \"S004\", \"S005\",\n",
    "                   \"S006\", \"S007\", \"S008\", None, \"S010\"],\n",
    "    \"name\": [\"Alice\", \"Bob\", \"Charlie\", \"David\", \"Eva\",\n",
    "             \"Frank\", \"Grace\", \"Helen\", \"Ian\", \"Jane\"],\n",
    "    \"gender\": [\"F\", \"M\", \"M\", \"M\", \"F\", \"M\", \"F\", \"F\", \"M\", \"F\"],\n",
    "    \"age\": [20, 21, 22, 20, 23, 21, None, 22, 20, 21],\n",
    "    \"department\": [\"CS\", \"Math\", \"CS\", \"Physics\", \"Math\",\n",
    "                   \"CS\", \"Physics\", \"Math\", \"CS\", \"Physics\"],\n",
    "    \"score\": [85, 90, 78, None, 92, 88, 75, 80, 95, 87],\n",
    "    \"enroll_date\": pd.to_datetime([\n",
    "        \"2022-09-01\", None, \"2022-09-01\", \"2023-02-15\", \"2021-09-01\",\n",
    "        \"2022-09-01\", \"2023-02-15\", \"2021-09-01\", \"2022-09-01\", None\n",
    "    ])\n",
    "}\n",
    "\n",
    "df = pd.DataFrame(data)\n",
    "df"
   ]
  },
  {
   "cell_type": "code",
   "execution_count": null,
   "id": "d0a5b1d0",
   "metadata": {},
   "outputs": [],
   "source": [
    "df.sort_values(\"age\", ascending=True)    # 根據指定欄位排序"
   ]
  },
  {
   "cell_type": "code",
   "execution_count": null,
   "id": "b66babd1",
   "metadata": {},
   "outputs": [],
   "source": [
    "df.sort_values(\"score\", ascending=False)    # 根據指定欄位排序"
   ]
  },
  {
   "cell_type": "markdown",
   "id": "83e05b2f",
   "metadata": {},
   "source": [
    "### 基本資訊"
   ]
  },
  {
   "cell_type": "code",
   "execution_count": null,
   "id": "9a3bee7c",
   "metadata": {},
   "outputs": [],
   "source": [
    "df.head(3)          # 前幾列"
   ]
  },
  {
   "cell_type": "code",
   "execution_count": null,
   "id": "20584548",
   "metadata": {},
   "outputs": [],
   "source": [
    "df.shape    # 資料集大小"
   ]
  },
  {
   "cell_type": "code",
   "execution_count": null,
   "id": "5f2ddfbf",
   "metadata": {},
   "outputs": [],
   "source": [
    "df.dtypes          # 各欄位型態"
   ]
  },
  {
   "cell_type": "code",
   "execution_count": null,
   "id": "9258881d",
   "metadata": {},
   "outputs": [],
   "source": [
    "df.info()          # 型態與缺失值"
   ]
  },
  {
   "cell_type": "code",
   "execution_count": null,
   "id": "21c762d5",
   "metadata": {},
   "outputs": [],
   "source": [
    "df.describe()      # 數值統計"
   ]
  },
  {
   "cell_type": "code",
   "execution_count": null,
   "id": "99c0d8f2",
   "metadata": {},
   "outputs": [],
   "source": [
    "df.isna().sum()     # 各欄位 NaN 數量"
   ]
  },
  {
   "cell_type": "markdown",
   "id": "39d04314",
   "metadata": {},
   "source": [
    "### 篩選資料"
   ]
  },
  {
   "cell_type": "code",
   "execution_count": null,
   "id": "aa075432",
   "metadata": {},
   "outputs": [],
   "source": [
    "df[\"name\"]      # 單一欄位"
   ]
  },
  {
   "cell_type": "code",
   "execution_count": null,
   "id": "84f3c5c7",
   "metadata": {},
   "outputs": [],
   "source": [
    "df[[\"name\",\"score\"]]  # 多個欄位"
   ]
  },
  {
   "cell_type": "code",
   "execution_count": null,
   "id": "2b98015a",
   "metadata": {},
   "outputs": [],
   "source": [
    "df[df[\"score\"] > 80]         # 分數大於 90"
   ]
  },
  {
   "cell_type": "code",
   "execution_count": null,
   "id": "df3ccec4",
   "metadata": {},
   "outputs": [],
   "source": [
    "df.iloc[[0]]        # 第一列"
   ]
  },
  {
   "cell_type": "markdown",
   "id": "cfe6f3b8",
   "metadata": {},
   "source": [
    "### 資料轉換"
   ]
  },
  {
   "cell_type": "code",
   "execution_count": null,
   "id": "4b55f5f4",
   "metadata": {},
   "outputs": [],
   "source": [
    "df[\"passed\"] = df[\"score\"] > 80     # 新增一欄，分數大於 80 為 True，否則為 False"
   ]
  },
  {
   "cell_type": "code",
   "execution_count": null,
   "id": "2b37b3eb",
   "metadata": {},
   "outputs": [],
   "source": [
    "df"
   ]
  },
  {
   "cell_type": "code",
   "execution_count": null,
   "id": "1f93703f",
   "metadata": {},
   "outputs": [],
   "source": [
    "df[\"age\"] = df[\"age\"].astype(\"int\")     # 將年齡轉換為整數\n",
    "df[\"score\"] = df[\"score\"].astype(\"int\")   # 將分數轉換為整數"
   ]
  },
  {
   "cell_type": "code",
   "execution_count": null,
   "id": "2b3a0c7a",
   "metadata": {},
   "outputs": [],
   "source": [
    "df[\"age\"] = df[\"age\"].astype(\"Int64\")    # 將年齡轉換為整數，但允許缺失值\n",
    "df[\"score\"] = df[\"score\"].astype(\"Int64\")  # 將分數轉換為整數，但允許缺失值"
   ]
  },
  {
   "cell_type": "code",
   "execution_count": null,
   "id": "2903262c",
   "metadata": {},
   "outputs": [],
   "source": [
    "df.dtypes"
   ]
  },
  {
   "cell_type": "markdown",
   "id": "3b669e36",
   "metadata": {},
   "source": [
    "### 空值處理"
   ]
  },
  {
   "cell_type": "code",
   "execution_count": null,
   "id": "8fae9a31",
   "metadata": {},
   "outputs": [],
   "source": [
    "df[df.isnull().any(axis=1)]     # 找出有缺失值的列"
   ]
  },
  {
   "cell_type": "code",
   "execution_count": null,
   "id": "c0179651",
   "metadata": {},
   "outputs": [],
   "source": [
    "df[df[\"enroll_date\"].isna()]     # 篩出該欄位為 NaN 的列"
   ]
  },
  {
   "cell_type": "code",
   "execution_count": null,
   "id": "74300e55",
   "metadata": {},
   "outputs": [],
   "source": [
    "df.fillna(0)                       # 將所有空值填補為特定數值"
   ]
  },
  {
   "cell_type": "code",
   "execution_count": null,
   "id": "15ebdb23",
   "metadata": {},
   "outputs": [],
   "source": [
    "df[\"age\"].fillna(int(df[\"age\"].mean()))  # 將指定欄位空值填補為平均值"
   ]
  },
  {
   "cell_type": "code",
   "execution_count": null,
   "id": "5d13bfe0",
   "metadata": {},
   "outputs": [],
   "source": [
    "df['enroll_date'].fillna(pd.Timestamp('1970-01-01'))    # 將欄位填補為特定日期"
   ]
  },
  {
   "cell_type": "code",
   "execution_count": null,
   "id": "a9b9674d",
   "metadata": {},
   "outputs": [],
   "source": [
    "df['enroll_date'].replace({pd.NaT: None})       # 將 NaT 替換為 None"
   ]
  },
  {
   "cell_type": "code",
   "execution_count": null,
   "id": "97b9ed6b",
   "metadata": {},
   "outputs": [],
   "source": [
    "df['enroll_date'] = df['enroll_date'].replace({pd.NaT: None})       # 將 NaT 替換為 None"
   ]
  },
  {
   "cell_type": "code",
   "execution_count": null,
   "id": "f1460c17",
   "metadata": {},
   "outputs": [],
   "source": [
    "df['score'] = df['score'].replace({np.nan: None})   # 把 NaN 替換成 None"
   ]
  },
  {
   "cell_type": "code",
   "execution_count": null,
   "id": "d7c8b9cb",
   "metadata": {},
   "outputs": [],
   "source": [
    "df.dropna()                # 刪除空值列"
   ]
  },
  {
   "cell_type": "code",
   "execution_count": null,
   "id": "a7a1d442",
   "metadata": {},
   "outputs": [],
   "source": [
    "df"
   ]
  },
  {
   "cell_type": "code",
   "execution_count": null,
   "id": "6abb2a56",
   "metadata": {},
   "outputs": [],
   "source": [
    "df = df.dropna()                # 刪除空值列"
   ]
  },
  {
   "cell_type": "markdown",
   "id": "261f5132",
   "metadata": {},
   "source": [
    "### 檔案輸出與載入"
   ]
  },
  {
   "cell_type": "code",
   "execution_count": null,
   "id": "c4cb4fa0",
   "metadata": {},
   "outputs": [],
   "source": [
    "df.to_csv(\"example.csv\")        # 輸出為 CSV 檔案"
   ]
  },
  {
   "cell_type": "code",
   "execution_count": null,
   "id": "c7b6db47",
   "metadata": {},
   "outputs": [],
   "source": [
    "df = pd.read_csv(\"example.csv\")     # 讀取 CSV 檔案"
   ]
  },
  {
   "cell_type": "code",
   "execution_count": null,
   "id": "f7160307",
   "metadata": {},
   "outputs": [],
   "source": [
    "df"
   ]
  },
  {
   "cell_type": "markdown",
   "id": "8d7c4d01",
   "metadata": {},
   "source": [
    "# 練習"
   ]
  },
  {
   "cell_type": "code",
   "execution_count": null,
   "id": "74f06854",
   "metadata": {},
   "outputs": [],
   "source": [
    "import pandas as pd\n",
    "import numpy as np\n",
    "\n",
    "data = {\n",
    "    \"訂單編號\": [f\"O{str(i).zfill(3)}\" for i in range(1, 11)],\n",
    "    \"顧客姓名\": [\"王小明\",\"陳小華\",\"林美麗\",\"張志強\",\"李小芳\",\n",
    "             \"吳怡君\",\"周家豪\",\"徐雅婷\",\"鄭俊傑\",\"劉淑芬\"],\n",
    "    \"商品類別\": [\"手機\",\"筆電\",\"耳機\",\"手機\",\"平板\",\n",
    "             \"家電\",\"筆電\",\"手機\",\"耳機\",\"平板\"],\n",
    "    \"單價\": [19900, 32000, 2500, np.nan, 15000,\n",
    "           9000, 28000, 21000, np.nan, 15500],\n",
    "    \"數量\": [1, 1, 2, 1, np.nan,\n",
    "           1, 1, 2, 3, np.nan],\n",
    "    \"訂單日期\": pd.to_datetime([\n",
    "        \"2023-01-05\",\"2023-01-12\",\"2023-02-08\",\"2023-03-01\", None,\n",
    "        \"2023-03-20\", None,\"2023-04-05\",\"2023-04-20\", None\n",
    "    ])\n",
    "}\n",
    "\n",
    "df = pd.DataFrame(data)\n",
    "df"
   ]
  },
  {
   "cell_type": "markdown",
   "id": "b471675a",
   "metadata": {},
   "source": [
    "1. 檢查資料\n",
    "\n",
    "- 查看哪個欄位有缺失值\n",
    "\n",
    "- 確認各欄位型態"
   ]
  },
  {
   "cell_type": "code",
   "execution_count": null,
   "id": "a61f2fa7",
   "metadata": {},
   "outputs": [],
   "source": []
  },
  {
   "cell_type": "markdown",
   "id": "ca48249b",
   "metadata": {},
   "source": [
    "\n",
    "2. 處理缺失值\n",
    "\n",
    "- 用平均值補齊 單價\n",
    "- 用 fillna(1) 補齊 數量\n",
    "- 用固定日期填補 訂單日期\n"
   ]
  },
  {
   "cell_type": "code",
   "execution_count": null,
   "id": "9c65ced9",
   "metadata": {},
   "outputs": [],
   "source": []
  },
  {
   "cell_type": "markdown",
   "id": "f0834ab6",
   "metadata": {},
   "source": [
    "\n",
    "3. 篩選與排序\n",
    "\n",
    "- 找出 商品類別 = \"手機\" 的訂單\n",
    "- 找出 單價 > 20000 的訂單\n",
    "- 依照 數量 由大到小排序"
   ]
  },
  {
   "cell_type": "code",
   "execution_count": null,
   "id": "fb97c95d",
   "metadata": {},
   "outputs": [],
   "source": []
  },
  {
   "cell_type": "markdown",
   "id": "a46f8bd7",
   "metadata": {},
   "source": [
    "\n",
    "\n",
    "4. 運算與新增欄位\n",
    "\n",
    "- 新增 總金額 = 單價 × 數量\n",
    "- 計算平均訂單金額"
   ]
  },
  {
   "cell_type": "code",
   "execution_count": null,
   "id": "d36802fb",
   "metadata": {},
   "outputs": [],
   "source": []
  }
 ],
 "metadata": {
  "kernelspec": {
   "display_name": ".venv",
   "language": "python",
   "name": "python3"
  },
  "language_info": {
   "codemirror_mode": {
    "name": "ipython",
    "version": 3
   },
   "file_extension": ".py",
   "mimetype": "text/x-python",
   "name": "python",
   "nbconvert_exporter": "python",
   "pygments_lexer": "ipython3",
   "version": "3.10.18"
  }
 },
 "nbformat": 4,
 "nbformat_minor": 5
}
